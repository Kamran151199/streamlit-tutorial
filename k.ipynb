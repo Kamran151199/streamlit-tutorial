{
 "cells": [
  {
   "cell_type": "raw",
   "metadata": {
    "collapsed": true,
    "pycharm": {
     "name": "#%% raw\n"
    }
   },
   "source": [
    "Importing essentional packages"
   ]
  },
  {
   "cell_type": "code",
   "execution_count": 8,
   "outputs": [],
   "source": [
    "import pandas as pd\n",
    "import streamlit as st"
   ],
   "metadata": {
    "collapsed": false,
    "pycharm": {
     "name": "#%%\n"
    }
   }
  },
  {
   "cell_type": "markdown",
   "source": [
    "Making variables"
   ],
   "metadata": {
    "collapsed": false,
    "pycharm": {
     "name": "#%% md\n"
    }
   }
  },
  {
   "cell_type": "code",
   "source": [
    "header = st.container()\n",
    "dataset = st.container()\n",
    "features = st.container()\n",
    "model = st.container()\n",
    "data = pd.read_csv('cars.csv')"
   ],
   "metadata": {
    "collapsed": false,
    "pycharm": {
     "name": "#%%\n"
    }
   },
   "execution_count": 9,
   "outputs": []
  },
  {
   "cell_type": "markdown",
   "source": [
    "Cleaning Dataset"
   ],
   "metadata": {
    "collapsed": false,
    "pycharm": {
     "name": "#%% md\n"
    }
   }
  },
  {
   "cell_type": "code",
   "execution_count": 10,
   "outputs": [],
   "source": [
    "data.dropna(inplace=True)"
   ],
   "metadata": {
    "collapsed": false,
    "pycharm": {
     "name": "#%%\n"
    }
   }
  },
  {
   "cell_type": "markdown",
   "source": [
    "All logics are writing here"
   ],
   "metadata": {
    "collapsed": false,
    "pycharm": {
     "name": "#%% md\n"
    }
   }
  },
  {
   "cell_type": "code",
   "execution_count": 11,
   "outputs": [],
   "source": [
    "l = list(data.Invoice)\n",
    "changed_list = []\n",
    "for i in l:\n",
    "    if type(i) == str:\n",
    "       i = i[1:-1]\n",
    "       i = i.replace(',', '')\n",
    "       i = int(i)\n",
    "    else:\n",
    "        i = int(i)\n",
    "    changed_list.append(i)\n",
    "data.Invoice = changed_list\n",
    "\n",
    "most_expencive_car = data.loc[data['Invoice'] == data.Invoice.max()]\n",
    "most_expencive_car.reset_index(inplace=True)\n",
    "origin = data"
   ],
   "metadata": {
    "collapsed": false,
    "pycharm": {
     "name": "#%%\n"
    }
   }
  },
  {
   "cell_type": "markdown",
   "source": [
    "Sending data to Streamlit"
   ],
   "metadata": {
    "collapsed": false,
    "pycharm": {
     "name": "#%% md\n"
    }
   }
  },
  {
   "cell_type": "code",
   "execution_count": 12,
   "outputs": [],
   "source": [
    "with header:\n",
    "    st.title('Streamlit Project on Cars dataset')\n",
    "\n",
    "\n",
    "with dataset:\n",
    "\n",
    "    st.header('Cars Dataset')\n",
    "    st.write(data.head(15))\n",
    "    st.text(\"Let`s analyze our dataset!\")\n",
    "    st.write(data.columns)\n",
    "    st.write(data.describe())\n",
    "\n",
    "\n",
    "\n",
    "with features:\n",
    "    st.header(\"features I have created.\")\n",
    "    st.text(\"What kind of Car Type is popular and most sold in the World\")\n",
    "    st.write(data['Type'].value_counts())\n",
    "    st.bar_chart(data['Type'].value_counts())\n",
    "    st.text(\"The most expencive car in this dataframe is Porsche\")\n",
    "    st.write(most_expencive_car)\n",
    "    st.text('The most car sold continent :')\n",
    "    st.write(data['Origin'].value_counts())\n",
    "    st.bar_chart(data.Origin.value_counts())"
   ],
   "metadata": {
    "collapsed": false,
    "pycharm": {
     "name": "#%%\n"
    }
   }
  }
 ],
 "metadata": {
  "kernelspec": {
   "display_name": "Python 3",
   "language": "python",
   "name": "python3"
  },
  "language_info": {
   "codemirror_mode": {
    "name": "ipython",
    "version": 2
   },
   "file_extension": ".py",
   "mimetype": "text/x-python",
   "name": "python",
   "nbconvert_exporter": "python",
   "pygments_lexer": "ipython2",
   "version": "2.7.6"
  }
 },
 "nbformat": 4,
 "nbformat_minor": 0
}